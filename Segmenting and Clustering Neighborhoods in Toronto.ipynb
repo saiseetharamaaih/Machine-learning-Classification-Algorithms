{
    "nbformat_minor": 1, 
    "cells": [
        {
            "source": "### Project1 : Segmenting and Clustering Neighborhoods in Toronto ", 
            "cell_type": "markdown", 
            "metadata": {
                "collapsed": true
            }
        }, 
        {
            "source": "Installing necessary packages and environments", 
            "cell_type": "markdown", 
            "metadata": {}
        }, 
        {
            "execution_count": 1, 
            "cell_type": "code", 
            "metadata": {}, 
            "outputs": [
                {
                    "output_type": "stream", 
                    "name": "stdout", 
                    "text": "Fetching package metadata .............\nSolving package specifications: .\n\nPackage plan for installation in environment /opt/conda/envs/DSX-Python35:\n\nThe following NEW packages will be INSTALLED:\n\n    geographiclib: 1.49-py_0   conda-forge\n    geopy:         1.17.0-py_0 conda-forge\n\ngeographiclib- 100% |################################| Time: 0:00:00   1.05 MB/s\ngeopy-1.17.0-p 100% |################################| Time: 0:00:00   1.61 MB/s\nFetching package metadata .............\nSolving package specifications: .\n\nPackage plan for installation in environment /opt/conda/envs/DSX-Python35:\n\nThe following NEW packages will be INSTALLED:\n\n    altair:  2.2.2-py35_1 conda-forge\n    branca:  0.3.1-py_0   conda-forge\n    folium:  0.5.0-py_0   conda-forge\n    vincent: 0.4.4-py_1   conda-forge\n\naltair-2.2.2-p 100% |################################| Time: 0:00:00   1.28 MB/s\nbranca-0.3.1-p 100% |################################| Time: 0:00:00  26.11 MB/s\nvincent-0.4.4- 100% |################################| Time: 0:00:00   7.81 MB/s\nfolium-0.5.0-p 100% |################################| Time: 0:00:00  32.51 MB/s\nLibraries imported.\n"
                }
            ], 
            "source": "import numpy as np # library to handle data in a vectorized manner\n\nimport pandas as pd # library for data analsysis\npd.set_option('display.max_columns', None)\npd.set_option('display.max_rows', None)\n\nimport json # library to handle JSON files\n\n!conda install -c conda-forge geopy --yes # uncomment this line if you haven't completed the Foursquare API lab\nfrom geopy.geocoders import Nominatim # convert an address into latitude and longitude values\n\nimport requests # library to handle requests\nfrom pandas.io.json import json_normalize # tranform JSON file into a pandas dataframe\n\n# Matplotlib and associated plotting modules\nimport matplotlib.cm as cm\nimport matplotlib.colors as colors\n\n# import k-means from clustering stage\nfrom sklearn.cluster import KMeans\n\n!conda install -c conda-forge folium=0.5.0 --yes # uncomment this line if you haven't completed the Foursquare API lab\nimport folium # map rendering library\n\nprint('Libraries imported.')"
        }, 
        {
            "execution_count": 2, 
            "cell_type": "code", 
            "metadata": {}, 
            "outputs": [
                {
                    "output_type": "stream", 
                    "name": "stdout", 
                    "text": "Collecting bs4\n  Downloading https://files.pythonhosted.org/packages/10/ed/7e8b97591f6f456174139ec089c769f89a94a1a4025fe967691de971f314/bs4-0.0.1.tar.gz\nRequirement not upgraded as not directly required: beautifulsoup4 in /opt/conda/envs/DSX-Python35/lib/python3.5/site-packages (from bs4)\nBuilding wheels for collected packages: bs4\n  Running setup.py bdist_wheel for bs4 ... \u001b[?25ldone\n\u001b[?25h  Stored in directory: /home/dsxuser/.cache/pip/wheels/a0/b0/b2/4f80b9456b87abedbc0bf2d52235414c3467d8889be38dd472\nSuccessfully built bs4\nInstalling collected packages: bs4\nSuccessfully installed bs4-0.0.1\n"
                }
            ], 
            "source": "! pip install bs4\nfrom bs4 import BeautifulSoup"
        }, 
        {
            "execution_count": 3, 
            "cell_type": "code", 
            "metadata": {}, 
            "outputs": [], 
            "source": "path = 'https://en.wikipedia.org/wiki/List_of_postal_codes_of_Canada:_M'\npage = requests.get(path).content\nsoup = BeautifulSoup(page,'lxml')\n\n# print(soup)"
        }, 
        {
            "source": "#### data scraping from the web using beautiful soup library", 
            "cell_type": "markdown", 
            "metadata": {}
        }, 
        {
            "execution_count": null, 
            "cell_type": "code", 
            "metadata": {}, 
            "outputs": [], 
            "source": "#### getting header\nhead_list = soup.table.tbody.findAll('th')\n\n\nfor el in range(len(head_list)):\n    head_list[el] = (head_list[el].text).replace('\\n','')\n\n### getting tablerows\nlist1 = []\nlist2 = soup.table.tbody.findAll('td')\nfor el in list2:\n    el = el.text\n    list1.append(el.replace('\\n',''))\n\ncolumn1 = list1[0::3]\ncolumn2 = list1[1::3]\ncolumn3 = list1[2::3]\n\n\nfor el in range(len(column3)):\n    if(column3[el]=='Not assigned'):\n        column3[el] = column2[el]\n"
        }, 
        {
            "source": "Create dataFrame using pandas", 
            "cell_type": "markdown", 
            "metadata": {}
        }, 
        {
            "execution_count": null, 
            "cell_type": "code", 
            "metadata": {}, 
            "outputs": [], 
            "source": "df1 = pd.DataFrame([column1,column2,column3])\ndf1=df1.T\ndf1.columns=head_list"
        }
    ], 
    "metadata": {
        "kernelspec": {
            "display_name": "Python 3.5", 
            "name": "python3", 
            "language": "python"
        }, 
        "language_info": {
            "mimetype": "text/x-python", 
            "nbconvert_exporter": "python", 
            "version": "3.5.5", 
            "name": "python", 
            "file_extension": ".py", 
            "pygments_lexer": "ipython3", 
            "codemirror_mode": {
                "version": 3, 
                "name": "ipython"
            }
        }
    }, 
    "nbformat": 4
}