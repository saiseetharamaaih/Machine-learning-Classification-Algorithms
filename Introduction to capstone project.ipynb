{
    "nbformat_minor": 1, 
    "cells": [
        {
            "source": "# Capstone Project:  RESTAURANT RECOMMENDATION SYSTEM", 
            "cell_type": "markdown", 
            "metadata": {
                "collapsed": true
            }
        }, 
        {
            "source": "This report only contains explanations on the methodology and the analysis of the business problem. The code and the data analysis will be detailed in a further notebook.", 
            "cell_type": "markdown", 
            "metadata": {}
        }, 
        {
            "source": "## Business problem", 
            "cell_type": "markdown", 
            "metadata": {}
        }, 
        {
            "source": "Now a days, almost everyone had access to internet. So, I decided to start a website and want to provide location services to users like Foursquare and GMaps. My revenue is directly proportional to number of users in my website. There are particularly two types of customers to my site. One such type is given below as example\n1. __Customers looking for Food services :__ jhon\n2. __Customers who are providing food services__ such as people running restaurants in this case. ", 
            "cell_type": "markdown", 
            "metadata": {}
        }, 
        {
            "source": "Jhon is an foodie and also an active user of my website. He is currently in Noida city. Jhon is always facing problem to decide which nearby restaurant is best suitable for him. So, we have to provide solution to him by __recommending k-most likelihood restaurants__ near him. There are so many food services provided in a particular location which makes jhon so confused and difficult to choose and to visit a restaurant. ", 
            "cell_type": "markdown", 
            "metadata": {}
        }, 
        {
            "source": "## Analytic Approach", 
            "cell_type": "markdown", 
            "metadata": {}
        }, 
        {
            "source": "Traditionally, there are two methods to construct a recommender system :\n\n- Content-based recommendation\n- __Collaborative Filtering__( `_we are following_ `)\n\nThe first one analyzes the nature of each restaurant. For instance, recommending restaurants to a user from the hand-picked features of each restaurant. Collaborative Filtering, on the other hand, does not require any information about the restaurants or the users themselves. It recommends restaurants based on users\u2019 past behavior.", 
            "cell_type": "markdown", 
            "metadata": {}
        }, 
        {
            "source": "##### Collabarative Filtering method", 
            "cell_type": "markdown", 
            "metadata": {}
        }, 
        {
            "source": "For instance taking jhon's problem, \n\n    Step-1 : From venue's data, we will collect all the users who rated that venue and their respective ratings as well\n    Step-2 : We will build the data set of users, restaurants and their collective respective ratings\n    Step-3 : After building the dataset, split the data set into training and testing datasets\n    Step-4 : we will apply the machine learning model or DeepLearning model on the training dataset\n    Step-5 : Evaluation is done using testing dataset\n    Step-6 : Repeating the above 2 steps for different DeppLearning and MachineLearning models", 
            "cell_type": "markdown", 
            "metadata": {}
        }, 
        {
            "source": "## Data Requirements", 
            "cell_type": "markdown", 
            "metadata": {}
        }, 
        {
            "source": "1. venues(Restaurants) data - collected from  __Search Query for a specific venue category__\nhttps://api.foursquare.com/v2/venues/search?client_id=CLIENT_ID&client_secret=CLIENT_SECRET&ll=LATITUDE,LONGITUDE&v=VERSION&query=QUERY&radius=RADIUS&limit=LIMIT__", 
            "cell_type": "markdown", 
            "metadata": {}
        }, 
        {
            "source": "2. because of unavailble Users data...Users rating for the venues will generated randomly", 
            "cell_type": "markdown", 
            "metadata": {}
        }, 
        {
            "source": "## Methodology and Modelling will be provided in final report", 
            "cell_type": "markdown", 
            "metadata": {}
        }, 
        {
            "source": "Thank you", 
            "cell_type": "markdown", 
            "metadata": {}
        }
    ], 
    "metadata": {
        "kernelspec": {
            "display_name": "Python 3.5", 
            "name": "python3", 
            "language": "python"
        }, 
        "language_info": {
            "mimetype": "text/x-python", 
            "nbconvert_exporter": "python", 
            "version": "3.5.5", 
            "name": "python", 
            "file_extension": ".py", 
            "pygments_lexer": "ipython3", 
            "codemirror_mode": {
                "version": 3, 
                "name": "ipython"
            }
        }
    }, 
    "nbformat": 4
}